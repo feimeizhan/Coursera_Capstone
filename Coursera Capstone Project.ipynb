{
    "cells": [
        {
            "cell_type": "markdown",
            "metadata": {
                "collapsed": true
            },
            "source": [
                "# Coursera Capstone - To make more popular mobile games"
            ]
        },
        {
            "cell_type": "markdown",
            "metadata": {},
            "source": [
                "## Table of contents\n",
                "* [Introduction: Business Problem](#introduction)\n",
                "* [Data](#data)\n",
                "* [Methodology](#methodology)\n",
                "* [Analysis](#analysis)\n",
                "* [Results and Discussion](#results)\n",
                "* [Conclusion](#conclusion)"
            ]
        },
        {
            "source": [
                "\n",
                "## Introduction: Business Problem <a name=\"introduction\"></a>"
            ],
            "cell_type": "markdown",
            "metadata": {}
        },
        {
            "source": [
                "Mobile gaming has exploded during the last couple of years. There were 209 million mobile game players in 2019 in the US alone. In addition, mobile games already dominated the total gaming industry revenue in 2019. We can expect the same will happen in 2020 as well.\n",
                "\n",
                "So the problem is how to make popular for the game company.\n",
                "\n",
                "As we all know the mobile users are impatient and responsive, and the game development cycle is long, So we need to use our data science powers to get the common features of the popular game. Quick trial and error is another advantage."
            ],
            "cell_type": "markdown",
            "metadata": {}
        },
        {
            "source": [
                "## Data <a name=\"data\"></a>"
            ],
            "cell_type": "markdown",
            "metadata": {}
        },
        {
            "source": [
                "Based on definition of our problem, factors that will influence our decission are:\n",
                "* the data of 17007 strategy games on the Apple App Store. It was collected on the 3rd of August 2019 from [Kaggle dataset](https://www.kaggle.com/tristan581/17k-apple-app-store-strategy-games)\n",
                "\n",
                "Some operations need to be done:\n",
                "* extend the game genres to columns array, so we can know which genres will be easier to be accepted.\n",
                "* to find correlation of supported lanuages, package size and so on.\n"
            ],
            "cell_type": "markdown",
            "metadata": {}
        },
        {
            "cell_type": "code",
            "execution_count": 1,
            "metadata": {},
            "outputs": [
                {
                    "name": "stdout",
                    "output_type": "stream",
                    "text": "Hello Capstone Project Course!\n"
                }
            ],
            "source": [
                "import pandas as pd\n",
                "import numpy as np\n",
                "\n",
                "print('Hello Capstone Project Course!')"
            ]
        }
    ],
    "metadata": {
        "kernelspec": {
            "display_name": "Python 3",
            "language": "python",
            "name": "python3"
        },
        "language_info": {
            "codemirror_mode": {
                "name": "ipython",
                "version": 3
            },
            "file_extension": ".py",
            "mimetype": "text/x-python",
            "name": "python",
            "nbconvert_exporter": "python",
            "pygments_lexer": "ipython3",
            "version": "3.8.5-final"
        }
    },
    "nbformat": 4,
    "nbformat_minor": 1
}